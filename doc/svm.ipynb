{
 "cells": [
  {
   "cell_type": "markdown",
   "metadata": {},
   "source": [
    "<h1><center>Predict the default of Credit Card holder</center></h1>\n",
    "<h2><center>Group 1: \n",
    "Li, Qiao; Shu, Chuyun; Xia, Zhihang; Yu, Shuqi; Yuan, Serena; Zhang, Renyin </center></h2>"
   ]
  },
  {
   "cell_type": "markdown",
   "metadata": {},
   "source": [
    "# 1. Introduction"
   ]
  },
  {
   "cell_type": "markdown",
   "metadata": {},
   "source": [
    "# Context\n",
    "Our study took payment data in October, 2005, from an\n",
    "important bank (a cash and credit card issuer) in Taiwan\n",
    "and the targets were credit card holders of the bank.\n",
    "Among the total 25,000 observations, 5529 observations\n",
    "(22.12%) are the cardholders with default payment. This\n",
    "research employed a binary variable – default payment\n",
    "(Yes = 1, No = 0), as the response variable."
   ]
  },
  {
   "cell_type": "markdown",
   "metadata": {},
   "source": [
    "# Content\n",
    "Following 23 variables as explanatory variables:\n",
    " \n",
    " X1: Amount of the given credit (NT dollar): it includes both the individual consumer credit and his/her family (supplementary) credit.\n",
    " \n",
    " X2: Gender (1 = male; 2 = female).\n",
    " \n",
    " X3: Education (1 = graduate school; 2 = university; 3 = high school; 4 = others).\n",
    "\n",
    " X4: Marital status (1 = married; 2 = single; 3 = others).\n",
    " \n",
    " X5: Age (year).\n",
    " \n",
    " X6–X11: History of past payment. We tracked the past monthly payment records (from April to September,2005) as follows: X6 = the repayment status in September, 2005; X7 = the repayment status in August,2005;...;X11 = the repayment status in April, 2005.\n",
    "The measurement scale for the repayment status is:\n",
    "1 = pay duly; 1 = payment delay for one month;2 = payment delay for two months; ...; 8 = payment delay for eight months; 9 = payment delay for nine months and above.\n",
    " \n",
    " X12–X17: Amount of bill statement (NT dollar).(X12 = amount of bill statement in September,2005; X13 = amount of bill statement in August,2005 ;...; X17 = amount of bill statement in April,2005.)\n",
    " \n",
    " X18–X23: Amount of previous payment (NT dollar).(X18 = amount paid in September, 2005; X19 = amount paid in August, 2005;...;X23 = amount paid in April,2005.) "
   ]
  },
  {
   "cell_type": "markdown",
   "metadata": {},
   "source": [
    "# 2. Set up the environment\n",
    "First, make sure you have python installed. "
   ]
  },
  {
   "cell_type": "code",
   "execution_count": null,
   "metadata": {},
   "outputs": [],
   "source": [
    "!python --version"
   ]
  },
  {
   "cell_type": "markdown",
   "metadata": {},
   "source": [
    "If you don't have python installed - please follow this [link](https://realpython.com/installing-python/) for instructions."
   ]
  },
  {
   "cell_type": "markdown",
   "metadata": {},
   "source": [
    "Running the cell below will start the installation of required python libraries, assuming you have python already installed.\n"
   ]
  },
  {
   "cell_type": "code",
   "execution_count": 1,
   "metadata": {},
   "outputs": [
    {
     "name": "stdout",
     "output_type": "stream",
     "text": [
      "Requirement already satisfied: pandas in c:\\users\\liqia\\anaconda3\\lib\\site-packages (1.1.3)\n",
      "Requirement already satisfied: numpy>=1.15.4 in c:\\users\\liqia\\anaconda3\\lib\\site-packages (from pandas) (1.19.2)\n",
      "Requirement already satisfied: pytz>=2017.2 in c:\\users\\liqia\\anaconda3\\lib\\site-packages (from pandas) (2020.1)\n",
      "Requirement already satisfied: python-dateutil>=2.7.3 in c:\\users\\liqia\\anaconda3\\lib\\site-packages (from pandas) (2.8.1)\n",
      "Requirement already satisfied: six>=1.5 in c:\\users\\liqia\\anaconda3\\lib\\site-packages (from python-dateutil>=2.7.3->pandas) (1.15.0)\n",
      "Requirement already satisfied: numpy in c:\\users\\liqia\\anaconda3\\lib\\site-packages (1.19.2)\n",
      "Requirement already satisfied: seaborn in c:\\users\\liqia\\anaconda3\\lib\\site-packages (0.11.0)\n",
      "Requirement already satisfied: scipy>=1.0 in c:\\users\\liqia\\anaconda3\\lib\\site-packages (from seaborn) (1.5.2)\n",
      "Requirement already satisfied: pandas>=0.23 in c:\\users\\liqia\\anaconda3\\lib\\site-packages (from seaborn) (1.1.3)\n",
      "Requirement already satisfied: numpy>=1.15 in c:\\users\\liqia\\anaconda3\\lib\\site-packages (from seaborn) (1.19.2)\n",
      "Requirement already satisfied: matplotlib>=2.2 in c:\\users\\liqia\\anaconda3\\lib\\site-packages (from seaborn) (3.3.2)\n",
      "Requirement already satisfied: pytz>=2017.2 in c:\\users\\liqia\\anaconda3\\lib\\site-packages (from pandas>=0.23->seaborn) (2020.1)\n",
      "Requirement already satisfied: python-dateutil>=2.7.3 in c:\\users\\liqia\\anaconda3\\lib\\site-packages (from pandas>=0.23->seaborn) (2.8.1)\n",
      "Requirement already satisfied: pyparsing!=2.0.4,!=2.1.2,!=2.1.6,>=2.0.3 in c:\\users\\liqia\\anaconda3\\lib\\site-packages (from matplotlib>=2.2->seaborn) (2.4.7)\n",
      "Requirement already satisfied: pillow>=6.2.0 in c:\\users\\liqia\\anaconda3\\lib\\site-packages (from matplotlib>=2.2->seaborn) (8.0.1)\n",
      "Requirement already satisfied: cycler>=0.10 in c:\\users\\liqia\\anaconda3\\lib\\site-packages (from matplotlib>=2.2->seaborn) (0.10.0)\n",
      "Requirement already satisfied: kiwisolver>=1.0.1 in c:\\users\\liqia\\anaconda3\\lib\\site-packages (from matplotlib>=2.2->seaborn) (1.3.0)\n",
      "Requirement already satisfied: certifi>=2020.06.20 in c:\\users\\liqia\\anaconda3\\lib\\site-packages (from matplotlib>=2.2->seaborn) (2020.6.20)\n",
      "Requirement already satisfied: six>=1.5 in c:\\users\\liqia\\anaconda3\\lib\\site-packages (from python-dateutil>=2.7.3->pandas>=0.23->seaborn) (1.15.0)\n",
      "Requirement already satisfied: matplotlib in c:\\users\\liqia\\anaconda3\\lib\\site-packages (3.3.2)\n",
      "Requirement already satisfied: pillow>=6.2.0 in c:\\users\\liqia\\anaconda3\\lib\\site-packages (from matplotlib) (8.0.1)\n",
      "Requirement already satisfied: kiwisolver>=1.0.1 in c:\\users\\liqia\\anaconda3\\lib\\site-packages (from matplotlib) (1.3.0)\n",
      "Requirement already satisfied: pyparsing!=2.0.4,!=2.1.2,!=2.1.6,>=2.0.3 in c:\\users\\liqia\\anaconda3\\lib\\site-packages (from matplotlib) (2.4.7)\n",
      "Requirement already satisfied: numpy>=1.15 in c:\\users\\liqia\\anaconda3\\lib\\site-packages (from matplotlib) (1.19.2)\n",
      "Requirement already satisfied: python-dateutil>=2.1 in c:\\users\\liqia\\anaconda3\\lib\\site-packages (from matplotlib) (2.8.1)\n",
      "Requirement already satisfied: cycler>=0.10 in c:\\users\\liqia\\anaconda3\\lib\\site-packages (from matplotlib) (0.10.0)\n",
      "Requirement already satisfied: certifi>=2020.06.20 in c:\\users\\liqia\\anaconda3\\lib\\site-packages (from matplotlib) (2020.6.20)\n",
      "Requirement already satisfied: six>=1.5 in c:\\users\\liqia\\anaconda3\\lib\\site-packages (from python-dateutil>=2.1->matplotlib) (1.15.0)\n",
      "Requirement already satisfied: plotly in c:\\users\\liqia\\anaconda3\\lib\\site-packages (4.14.3)\n",
      "Requirement already satisfied: six in c:\\users\\liqia\\anaconda3\\lib\\site-packages (from plotly) (1.15.0)\n",
      "Requirement already satisfied: retrying>=1.3.3 in c:\\users\\liqia\\anaconda3\\lib\\site-packages (from plotly) (1.3.3)\n",
      "Requirement already satisfied: iplot in c:\\users\\liqia\\anaconda3\\lib\\site-packages (0.0.0)\n"
     ]
    }
   ],
   "source": [
    "!pip install pandas\n",
    "!pip install numpy \n",
    "!pip install seaborn\n",
    "!pip install matplotlib\n",
    "!pip install plotly\n",
    "!pip install iplot"
   ]
  },
  {
   "cell_type": "code",
   "execution_count": 1,
   "metadata": {},
   "outputs": [],
   "source": [
    "#import the librarys\n",
    "import pandas as pd \n",
    "import smote_variants as sv\n",
    "import imbalanced_databases as imbd\n",
    "import numpy as np \n",
    "import seaborn as sns \n",
    "import matplotlib.pyplot as plt \n",
    "import plotly as py\n",
    "import plotly.graph_objs as go\n",
    "from plotly.offline import *\n",
    "import seaborn as sns\n",
    "\n",
    "%matplotlib inline\n",
    "np.random.seed(2021)"
   ]
  },
  {
   "cell_type": "markdown",
   "metadata": {},
   "source": [
    "ImportDataset"
   ]
  },
  {
   "cell_type": "code",
   "execution_count": 2,
   "metadata": {},
   "outputs": [
    {
     "data": {
      "text/html": [
       "<div>\n",
       "<style scoped>\n",
       "    .dataframe tbody tr th:only-of-type {\n",
       "        vertical-align: middle;\n",
       "    }\n",
       "\n",
       "    .dataframe tbody tr th {\n",
       "        vertical-align: top;\n",
       "    }\n",
       "\n",
       "    .dataframe thead th {\n",
       "        text-align: right;\n",
       "    }\n",
       "</style>\n",
       "<table border=\"1\" class=\"dataframe\">\n",
       "  <thead>\n",
       "    <tr style=\"text-align: right;\">\n",
       "      <th></th>\n",
       "      <th>X1</th>\n",
       "      <th>X2</th>\n",
       "      <th>X3</th>\n",
       "      <th>X4</th>\n",
       "      <th>X5</th>\n",
       "      <th>X6</th>\n",
       "      <th>X7</th>\n",
       "      <th>X8</th>\n",
       "      <th>X9</th>\n",
       "      <th>X10</th>\n",
       "      <th>...</th>\n",
       "      <th>X15</th>\n",
       "      <th>X16</th>\n",
       "      <th>X17</th>\n",
       "      <th>X18</th>\n",
       "      <th>X19</th>\n",
       "      <th>X20</th>\n",
       "      <th>X21</th>\n",
       "      <th>X22</th>\n",
       "      <th>X23</th>\n",
       "      <th>Y</th>\n",
       "    </tr>\n",
       "  </thead>\n",
       "  <tbody>\n",
       "    <tr>\n",
       "      <th>1</th>\n",
       "      <td>20000</td>\n",
       "      <td>2</td>\n",
       "      <td>2</td>\n",
       "      <td>1</td>\n",
       "      <td>24</td>\n",
       "      <td>2</td>\n",
       "      <td>2</td>\n",
       "      <td>-1</td>\n",
       "      <td>-1</td>\n",
       "      <td>-2</td>\n",
       "      <td>...</td>\n",
       "      <td>0</td>\n",
       "      <td>0</td>\n",
       "      <td>0</td>\n",
       "      <td>0</td>\n",
       "      <td>689</td>\n",
       "      <td>0</td>\n",
       "      <td>0</td>\n",
       "      <td>0</td>\n",
       "      <td>0</td>\n",
       "      <td>1</td>\n",
       "    </tr>\n",
       "    <tr>\n",
       "      <th>2</th>\n",
       "      <td>120000</td>\n",
       "      <td>2</td>\n",
       "      <td>2</td>\n",
       "      <td>2</td>\n",
       "      <td>26</td>\n",
       "      <td>-1</td>\n",
       "      <td>2</td>\n",
       "      <td>0</td>\n",
       "      <td>0</td>\n",
       "      <td>0</td>\n",
       "      <td>...</td>\n",
       "      <td>3272</td>\n",
       "      <td>3455</td>\n",
       "      <td>3261</td>\n",
       "      <td>0</td>\n",
       "      <td>1000</td>\n",
       "      <td>1000</td>\n",
       "      <td>1000</td>\n",
       "      <td>0</td>\n",
       "      <td>2000</td>\n",
       "      <td>1</td>\n",
       "    </tr>\n",
       "    <tr>\n",
       "      <th>3</th>\n",
       "      <td>90000</td>\n",
       "      <td>2</td>\n",
       "      <td>2</td>\n",
       "      <td>2</td>\n",
       "      <td>34</td>\n",
       "      <td>0</td>\n",
       "      <td>0</td>\n",
       "      <td>0</td>\n",
       "      <td>0</td>\n",
       "      <td>0</td>\n",
       "      <td>...</td>\n",
       "      <td>14331</td>\n",
       "      <td>14948</td>\n",
       "      <td>15549</td>\n",
       "      <td>1518</td>\n",
       "      <td>1500</td>\n",
       "      <td>1000</td>\n",
       "      <td>1000</td>\n",
       "      <td>1000</td>\n",
       "      <td>5000</td>\n",
       "      <td>0</td>\n",
       "    </tr>\n",
       "    <tr>\n",
       "      <th>4</th>\n",
       "      <td>50000</td>\n",
       "      <td>2</td>\n",
       "      <td>2</td>\n",
       "      <td>1</td>\n",
       "      <td>37</td>\n",
       "      <td>0</td>\n",
       "      <td>0</td>\n",
       "      <td>0</td>\n",
       "      <td>0</td>\n",
       "      <td>0</td>\n",
       "      <td>...</td>\n",
       "      <td>28314</td>\n",
       "      <td>28959</td>\n",
       "      <td>29547</td>\n",
       "      <td>2000</td>\n",
       "      <td>2019</td>\n",
       "      <td>1200</td>\n",
       "      <td>1100</td>\n",
       "      <td>1069</td>\n",
       "      <td>1000</td>\n",
       "      <td>0</td>\n",
       "    </tr>\n",
       "    <tr>\n",
       "      <th>5</th>\n",
       "      <td>50000</td>\n",
       "      <td>1</td>\n",
       "      <td>2</td>\n",
       "      <td>1</td>\n",
       "      <td>57</td>\n",
       "      <td>-1</td>\n",
       "      <td>0</td>\n",
       "      <td>-1</td>\n",
       "      <td>0</td>\n",
       "      <td>0</td>\n",
       "      <td>...</td>\n",
       "      <td>20940</td>\n",
       "      <td>19146</td>\n",
       "      <td>19131</td>\n",
       "      <td>2000</td>\n",
       "      <td>36681</td>\n",
       "      <td>10000</td>\n",
       "      <td>9000</td>\n",
       "      <td>689</td>\n",
       "      <td>679</td>\n",
       "      <td>0</td>\n",
       "    </tr>\n",
       "  </tbody>\n",
       "</table>\n",
       "<p>5 rows × 24 columns</p>\n",
       "</div>"
      ],
      "text/plain": [
       "       X1 X2 X3 X4  X5  X6 X7  X8  X9 X10  ...    X15    X16    X17   X18  \\\n",
       "1   20000  2  2  1  24   2  2  -1  -1  -2  ...      0      0      0     0   \n",
       "2  120000  2  2  2  26  -1  2   0   0   0  ...   3272   3455   3261     0   \n",
       "3   90000  2  2  2  34   0  0   0   0   0  ...  14331  14948  15549  1518   \n",
       "4   50000  2  2  1  37   0  0   0   0   0  ...  28314  28959  29547  2000   \n",
       "5   50000  1  2  1  57  -1  0  -1   0   0  ...  20940  19146  19131  2000   \n",
       "\n",
       "     X19    X20   X21   X22   X23  Y  \n",
       "1    689      0     0     0     0  1  \n",
       "2   1000   1000  1000     0  2000  1  \n",
       "3   1500   1000  1000  1000  5000  0  \n",
       "4   2019   1200  1100  1069  1000  0  \n",
       "5  36681  10000  9000   689   679  0  \n",
       "\n",
       "[5 rows x 24 columns]"
      ]
     },
     "execution_count": 2,
     "metadata": {},
     "output_type": "execute_result"
    }
   ],
   "source": [
    "df = pd.read_excel(\"C:/Users/liqia/Spring2021-Project5-group-1-1-master/data/default of credit card clients_original.xls\") \n",
    "df = df.iloc[1:, 1:]\n",
    "df.head()"
   ]
  },
  {
   "cell_type": "markdown",
   "metadata": {},
   "source": [
    "# 3 Data Preprocessing\n",
    "The data was randomly divided into two groups, one for model training and the other to validate the model."
   ]
  },
  {
   "cell_type": "code",
   "execution_count": 3,
   "metadata": {},
   "outputs": [
    {
     "name": "stdout",
     "output_type": "stream",
     "text": [
      "good class: 23364\n",
      "bad class: 6636\n"
     ]
    }
   ],
   "source": [
    "#Creating the X and y variables\n",
    "X = df.loc[:,'X1':'X23']\n",
    "y = df.loc[:, 'Y'].astype('category')\n",
    "print('good class: %d' % np.sum(y == 0))\n",
    "print('bad class: %d' % np.sum(y == 1))"
   ]
  },
  {
   "cell_type": "code",
   "execution_count": 4,
   "metadata": {},
   "outputs": [
    {
     "data": {
      "text/plain": [
       "((30000, 23), (30000,))"
      ]
     },
     "execution_count": 4,
     "metadata": {},
     "output_type": "execute_result"
    }
   ],
   "source": [
    "X.shape,y.shape"
   ]
  },
  {
   "cell_type": "markdown",
   "metadata": {},
   "source": [
    "Data Preprocessing Imbalanced Dataset (SMOTE)-oversamplig"
   ]
  },
  {
   "cell_type": "code",
   "execution_count": 5,
   "metadata": {},
   "outputs": [
    {
     "data": {
      "text/plain": [
       "((30000, 23), (30000,))"
      ]
     },
     "execution_count": 5,
     "metadata": {},
     "output_type": "execute_result"
    }
   ],
   "source": [
    "from imblearn.over_sampling import SMOTE\n",
    "# transform the dataset\n",
    "oversample = SMOTE()\n",
    "X_balance, y_balance = oversample.fit_resample(X, y)\n",
    "\n",
    "X.shape,y.shape"
   ]
  },
  {
   "cell_type": "markdown",
   "metadata": {},
   "source": [
    "Train-test split since we can see that the dataset is imbalanced, in this chunk we do an 80-20 train-test split.\n"
   ]
  },
  {
   "cell_type": "code",
   "execution_count": 6,
   "metadata": {},
   "outputs": [
    {
     "data": {
      "text/plain": [
       "((37382, 23), (37382,), (9346, 23), (9346,))"
      ]
     },
     "execution_count": 6,
     "metadata": {},
     "output_type": "execute_result"
    }
   ],
   "source": [
    "#split train and test with size=0.20.\n",
    "\n",
    "from sklearn.model_selection import train_test_split\n",
    "X_train,X_test,y_train,y_test= train_test_split(X_balance, y_balance,test_size=0.2,random_state=0)\n",
    "X_train.shape, y_train.shape, X_test.shape, y_test.shape"
   ]
  },
  {
   "cell_type": "markdown",
   "metadata": {},
   "source": [
    "# 4. Models"
   ]
  },
  {
   "cell_type": "markdown",
   "metadata": {},
   "source": [
    "# SVM"
   ]
  },
  {
   "cell_type": "code",
   "execution_count": 7,
   "metadata": {},
   "outputs": [],
   "source": [
    "\n",
    "import tensorflow as tf\n",
    "import matplotlib.pyplot as plt\n",
    "import sklearn\n",
    "from sklearn.ensemble import GradientBoostingClassifier\n",
    "from sklearn.datasets import make_classification\n",
    "from sklearn.model_selection import train_test_split, cross_validate, GridSearchCV,RepeatedStratifiedKFold,cross_val_score\n",
    "from sklearn.neighbors import KNeighborsClassifier\n",
    "import scipy.io\n",
    "import pickle\n",
    "import os, sys\n",
    "from scipy.spatial.distance import pdist\n",
    "import time \n",
    "import xlsxwriter\n",
    "from sklearn.metrics import accuracy_score, classification_report,make_scorer, confusion_matrix,roc_auc_score\n",
    "from sklearn.model_selection import GridSearchCV\n",
    "import tensorflow as tf\n",
    "#from keras.utils import to_categorical\n",
    "from tensorflow.keras.models import Sequential\n",
    "from sklearn import ensemble\n",
    "from sklearn.svm import SVC\n",
    "import random\n",
    "from keras.utils import to_categorical\n",
    "import matplotlib.pyplot as plt\n",
    "from tensorflow.keras.models import Sequential\n",
    "from keras.layers import Dense, Activation, Flatten, Input, Dropout\n",
    "from keras.layers import BatchNormalization\n",
    "from keras.models import Model\n",
    "from keras import initializers\n",
    "from keras.optimizers import Adam\n",
    "from keras.utils import to_categorical"
   ]
  },
  {
   "cell_type": "code",
   "execution_count": 8,
   "metadata": {
    "scrolled": false
   },
   "outputs": [
    {
     "name": "stdout",
     "output_type": "stream",
     "text": [
      "Fitting 5 folds for each of 25 candidates, totalling 125 fits\n",
      "[CV 1/5] END .....................C=0.1, gamma=1, kernel=rbf; total time= 6.2min\n",
      "[CV 2/5] END .....................C=0.1, gamma=1, kernel=rbf; total time= 6.9min\n",
      "[CV 3/5] END .....................C=0.1, gamma=1, kernel=rbf; total time= 5.9min\n",
      "[CV 4/5] END .....................C=0.1, gamma=1, kernel=rbf; total time= 6.0min\n",
      "[CV 5/5] END .....................C=0.1, gamma=1, kernel=rbf; total time= 5.4min\n",
      "[CV 1/5] END ...................C=0.1, gamma=0.1, kernel=rbf; total time= 5.1min\n",
      "[CV 2/5] END ...................C=0.1, gamma=0.1, kernel=rbf; total time= 4.9min\n",
      "[CV 3/5] END ...................C=0.1, gamma=0.1, kernel=rbf; total time= 4.9min\n",
      "[CV 4/5] END ...................C=0.1, gamma=0.1, kernel=rbf; total time= 4.9min\n",
      "[CV 5/5] END ...................C=0.1, gamma=0.1, kernel=rbf; total time= 5.1min\n",
      "[CV 1/5] END ..................C=0.1, gamma=0.01, kernel=rbf; total time= 6.4min\n",
      "[CV 2/5] END ..................C=0.1, gamma=0.01, kernel=rbf; total time= 6.4min\n",
      "[CV 3/5] END ..................C=0.1, gamma=0.01, kernel=rbf; total time= 6.4min\n",
      "[CV 4/5] END ..................C=0.1, gamma=0.01, kernel=rbf; total time= 6.0min\n",
      "[CV 5/5] END ..................C=0.1, gamma=0.01, kernel=rbf; total time= 7.2min\n",
      "[CV 1/5] END .................C=0.1, gamma=0.001, kernel=rbf; total time= 7.7min\n",
      "[CV 2/5] END .................C=0.1, gamma=0.001, kernel=rbf; total time= 6.9min\n",
      "[CV 3/5] END .................C=0.1, gamma=0.001, kernel=rbf; total time= 6.4min\n",
      "[CV 4/5] END .................C=0.1, gamma=0.001, kernel=rbf; total time= 7.2min\n",
      "[CV 5/5] END .................C=0.1, gamma=0.001, kernel=rbf; total time= 7.8min\n",
      "[CV 1/5] END ................C=0.1, gamma=0.0001, kernel=rbf; total time= 8.1min\n",
      "[CV 2/5] END ................C=0.1, gamma=0.0001, kernel=rbf; total time= 7.5min\n",
      "[CV 3/5] END ................C=0.1, gamma=0.0001, kernel=rbf; total time= 6.5min\n",
      "[CV 4/5] END ................C=0.1, gamma=0.0001, kernel=rbf; total time= 6.5min\n",
      "[CV 5/5] END ................C=0.1, gamma=0.0001, kernel=rbf; total time= 6.4min\n",
      "[CV 1/5] END .......................C=1, gamma=1, kernel=rbf; total time= 8.1min\n",
      "[CV 2/5] END .......................C=1, gamma=1, kernel=rbf; total time= 8.0min\n",
      "[CV 3/5] END .......................C=1, gamma=1, kernel=rbf; total time= 9.2min\n",
      "[CV 4/5] END .......................C=1, gamma=1, kernel=rbf; total time= 8.2min\n",
      "[CV 5/5] END .......................C=1, gamma=1, kernel=rbf; total time= 8.4min\n",
      "[CV 1/5] END .....................C=1, gamma=0.1, kernel=rbf; total time= 8.7min\n",
      "[CV 2/5] END .....................C=1, gamma=0.1, kernel=rbf; total time= 7.1min\n",
      "[CV 3/5] END .....................C=1, gamma=0.1, kernel=rbf; total time= 8.5min\n",
      "[CV 4/5] END .....................C=1, gamma=0.1, kernel=rbf; total time=10.1min\n",
      "[CV 5/5] END .....................C=1, gamma=0.1, kernel=rbf; total time= 8.2min\n",
      "[CV 1/5] END ....................C=1, gamma=0.01, kernel=rbf; total time= 8.6min\n",
      "[CV 2/5] END ....................C=1, gamma=0.01, kernel=rbf; total time= 8.6min\n",
      "[CV 3/5] END ....................C=1, gamma=0.01, kernel=rbf; total time= 8.5min\n",
      "[CV 4/5] END ....................C=1, gamma=0.01, kernel=rbf; total time= 8.5min\n",
      "[CV 5/5] END ....................C=1, gamma=0.01, kernel=rbf; total time= 8.4min\n",
      "[CV 1/5] END ...................C=1, gamma=0.001, kernel=rbf; total time= 7.6min\n",
      "[CV 2/5] END ...................C=1, gamma=0.001, kernel=rbf; total time= 8.9min\n",
      "[CV 3/5] END ...................C=1, gamma=0.001, kernel=rbf; total time=10.1min\n",
      "[CV 4/5] END ...................C=1, gamma=0.001, kernel=rbf; total time= 9.3min\n",
      "[CV 5/5] END ...................C=1, gamma=0.001, kernel=rbf; total time= 7.5min\n",
      "[CV 1/5] END ..................C=1, gamma=0.0001, kernel=rbf; total time= 9.1min\n",
      "[CV 2/5] END ..................C=1, gamma=0.0001, kernel=rbf; total time= 8.2min\n",
      "[CV 3/5] END ..................C=1, gamma=0.0001, kernel=rbf; total time= 7.8min\n",
      "[CV 4/5] END ..................C=1, gamma=0.0001, kernel=rbf; total time=10.0min\n",
      "[CV 5/5] END ..................C=1, gamma=0.0001, kernel=rbf; total time= 8.5min\n",
      "[CV 1/5] END ......................C=10, gamma=1, kernel=rbf; total time=11.3min\n",
      "[CV 2/5] END ......................C=10, gamma=1, kernel=rbf; total time=11.5min\n",
      "[CV 3/5] END ......................C=10, gamma=1, kernel=rbf; total time=11.3min\n",
      "[CV 4/5] END ......................C=10, gamma=1, kernel=rbf; total time=10.5min\n",
      "[CV 5/5] END ......................C=10, gamma=1, kernel=rbf; total time=11.6min\n",
      "[CV 1/5] END ....................C=10, gamma=0.1, kernel=rbf; total time=12.5min\n",
      "[CV 2/5] END ....................C=10, gamma=0.1, kernel=rbf; total time=12.6min\n",
      "[CV 3/5] END ....................C=10, gamma=0.1, kernel=rbf; total time=12.0min\n",
      "[CV 4/5] END ....................C=10, gamma=0.1, kernel=rbf; total time=11.7min\n",
      "[CV 5/5] END ....................C=10, gamma=0.1, kernel=rbf; total time=13.6min\n",
      "[CV 1/5] END ...................C=10, gamma=0.01, kernel=rbf; total time=14.1min\n",
      "[CV 2/5] END ...................C=10, gamma=0.01, kernel=rbf; total time=15.2min\n",
      "[CV 3/5] END ...................C=10, gamma=0.01, kernel=rbf; total time=12.8min\n",
      "[CV 4/5] END ...................C=10, gamma=0.01, kernel=rbf; total time=11.8min\n",
      "[CV 5/5] END ...................C=10, gamma=0.01, kernel=rbf; total time=13.4min\n",
      "[CV 1/5] END ..................C=10, gamma=0.001, kernel=rbf; total time=12.5min\n",
      "[CV 2/5] END ..................C=10, gamma=0.001, kernel=rbf; total time=11.6min\n",
      "[CV 3/5] END ..................C=10, gamma=0.001, kernel=rbf; total time=10.2min\n",
      "[CV 4/5] END ..................C=10, gamma=0.001, kernel=rbf; total time=11.5min\n",
      "[CV 5/5] END ..................C=10, gamma=0.001, kernel=rbf; total time=12.6min\n",
      "[CV 1/5] END .................C=10, gamma=0.0001, kernel=rbf; total time=12.6min\n",
      "[CV 2/5] END .................C=10, gamma=0.0001, kernel=rbf; total time=12.5min\n",
      "[CV 3/5] END .................C=10, gamma=0.0001, kernel=rbf; total time=12.9min\n",
      "[CV 4/5] END .................C=10, gamma=0.0001, kernel=rbf; total time=12.7min\n",
      "[CV 5/5] END .................C=10, gamma=0.0001, kernel=rbf; total time=12.5min\n",
      "[CV 1/5] END .....................C=100, gamma=1, kernel=rbf; total time=11.3min\n",
      "[CV 2/5] END .....................C=100, gamma=1, kernel=rbf; total time=11.4min\n",
      "[CV 3/5] END .....................C=100, gamma=1, kernel=rbf; total time=11.4min\n",
      "[CV 4/5] END .....................C=100, gamma=1, kernel=rbf; total time=10.4min\n",
      "[CV 5/5] END .....................C=100, gamma=1, kernel=rbf; total time= 9.7min\n",
      "[CV 1/5] END ...................C=100, gamma=0.1, kernel=rbf; total time=11.4min\n",
      "[CV 2/5] END ...................C=100, gamma=0.1, kernel=rbf; total time=10.1min\n",
      "[CV 3/5] END ...................C=100, gamma=0.1, kernel=rbf; total time=10.8min\n",
      "[CV 4/5] END ...................C=100, gamma=0.1, kernel=rbf; total time=10.7min\n",
      "[CV 5/5] END ...................C=100, gamma=0.1, kernel=rbf; total time= 9.9min\n",
      "[CV 1/5] END ..................C=100, gamma=0.01, kernel=rbf; total time= 9.9min\n",
      "[CV 2/5] END ..................C=100, gamma=0.01, kernel=rbf; total time= 9.3min\n",
      "[CV 3/5] END ..................C=100, gamma=0.01, kernel=rbf; total time=11.3min\n",
      "[CV 4/5] END ..................C=100, gamma=0.01, kernel=rbf; total time=12.7min\n",
      "[CV 5/5] END ..................C=100, gamma=0.01, kernel=rbf; total time=13.2min\n",
      "[CV 1/5] END .................C=100, gamma=0.001, kernel=rbf; total time=14.1min\n",
      "[CV 2/5] END .................C=100, gamma=0.001, kernel=rbf; total time=12.6min\n",
      "[CV 3/5] END .................C=100, gamma=0.001, kernel=rbf; total time=11.2min\n",
      "[CV 4/5] END .................C=100, gamma=0.001, kernel=rbf; total time=12.7min\n",
      "[CV 5/5] END .................C=100, gamma=0.001, kernel=rbf; total time=13.3min\n",
      "[CV 1/5] END ................C=100, gamma=0.0001, kernel=rbf; total time=12.7min\n",
      "[CV 2/5] END ................C=100, gamma=0.0001, kernel=rbf; total time=12.6min\n",
      "[CV 3/5] END ................C=100, gamma=0.0001, kernel=rbf; total time=13.1min\n",
      "[CV 4/5] END ................C=100, gamma=0.0001, kernel=rbf; total time=13.0min\n",
      "[CV 5/5] END ................C=100, gamma=0.0001, kernel=rbf; total time=12.6min\n",
      "[CV 1/5] END ....................C=1000, gamma=1, kernel=rbf; total time=11.4min\n"
     ]
    },
    {
     "name": "stdout",
     "output_type": "stream",
     "text": [
      "[CV 2/5] END ....................C=1000, gamma=1, kernel=rbf; total time=10.8min\n",
      "[CV 3/5] END ....................C=1000, gamma=1, kernel=rbf; total time=11.6min\n",
      "[CV 4/5] END ....................C=1000, gamma=1, kernel=rbf; total time=12.2min\n",
      "[CV 5/5] END ....................C=1000, gamma=1, kernel=rbf; total time=19.7min\n",
      "[CV 1/5] END ..................C=1000, gamma=0.1, kernel=rbf; total time=16.7min\n",
      "[CV 2/5] END ..................C=1000, gamma=0.1, kernel=rbf; total time=18.1min\n",
      "[CV 3/5] END ..................C=1000, gamma=0.1, kernel=rbf; total time=18.5min\n",
      "[CV 4/5] END ..................C=1000, gamma=0.1, kernel=rbf; total time=19.3min\n",
      "[CV 5/5] END ..................C=1000, gamma=0.1, kernel=rbf; total time=21.9min\n",
      "[CV 1/5] END .................C=1000, gamma=0.01, kernel=rbf; total time=16.7min\n",
      "[CV 2/5] END .................C=1000, gamma=0.01, kernel=rbf; total time=22.3min\n",
      "[CV 3/5] END .................C=1000, gamma=0.01, kernel=rbf; total time=22.8min\n",
      "[CV 4/5] END .................C=1000, gamma=0.01, kernel=rbf; total time=17.0min\n",
      "[CV 5/5] END .................C=1000, gamma=0.01, kernel=rbf; total time=22.4min\n",
      "[CV 1/5] END ................C=1000, gamma=0.001, kernel=rbf; total time=30.2min\n",
      "[CV 2/5] END ................C=1000, gamma=0.001, kernel=rbf; total time=21.4min\n",
      "[CV 3/5] END ................C=1000, gamma=0.001, kernel=rbf; total time=27.4min\n",
      "[CV 4/5] END ................C=1000, gamma=0.001, kernel=rbf; total time=23.2min\n",
      "[CV 5/5] END ................C=1000, gamma=0.001, kernel=rbf; total time=17.1min\n",
      "[CV 1/5] END ...............C=1000, gamma=0.0001, kernel=rbf; total time=20.9min\n",
      "[CV 2/5] END ...............C=1000, gamma=0.0001, kernel=rbf; total time=21.6min\n",
      "[CV 3/5] END ...............C=1000, gamma=0.0001, kernel=rbf; total time=23.8min\n",
      "[CV 4/5] END ...............C=1000, gamma=0.0001, kernel=rbf; total time=20.9min\n",
      "[CV 5/5] END ...............C=1000, gamma=0.0001, kernel=rbf; total time=21.1min\n"
     ]
    },
    {
     "data": {
      "text/plain": [
       "GridSearchCV(estimator=SVC(),\n",
       "             param_grid={'C': [0.1, 1, 10, 100, 1000],\n",
       "                         'gamma': [1, 0.1, 0.01, 0.001, 0.0001],\n",
       "                         'kernel': ['rbf']},\n",
       "             verbose=3)"
      ]
     },
     "execution_count": 8,
     "metadata": {},
     "output_type": "execute_result"
    }
   ],
   "source": [
    "param_grid = {'C': [0.1,1, 10, 100, 1000], 'gamma': [1,0.1,0.01,0.001,0.0001], 'kernel': ['rbf']} \n",
    "grid_svm = GridSearchCV(SVC(),param_grid,refit=True,verbose=3)\n",
    "grid_svm.fit(X_train,y_train)"
   ]
  },
  {
   "cell_type": "code",
   "execution_count": 9,
   "metadata": {},
   "outputs": [
    {
     "name": "stdout",
     "output_type": "stream",
     "text": [
      "{'C': 1000, 'gamma': 0.0001, 'kernel': 'rbf'}\n",
      "SVC(C=1000, gamma=0.0001)\n"
     ]
    }
   ],
   "source": [
    "print(grid_svm.best_params_)\n",
    "print(grid_svm.best_estimator_)"
   ]
  },
  {
   "cell_type": "code",
   "execution_count": 10,
   "metadata": {},
   "outputs": [
    {
     "name": "stdout",
     "output_type": "stream",
     "text": [
      "Training  model takes 12438.52 seconds\n",
      "Accuracy of SVM on test set: 0.572\n",
      "Predicting test data takes 229.889 seconds\n",
      "Classification error rate: 0.4284185747913546\n",
      "Classification report \n",
      "               precision    recall  f1-score   support\n",
      "\n",
      "           0       0.54      0.98      0.69      4613\n",
      "           1       0.90      0.17      0.29      4733\n",
      "\n",
      "    accuracy                           0.57      9346\n",
      "   macro avg       0.72      0.58      0.49      9346\n",
      "weighted avg       0.72      0.57      0.49      9346\n",
      "\n",
      "Confusion Matrix \n",
      " [[4520   93]\n",
      " [3911  822]]\n",
      "AUC is: 0.6612\n"
     ]
    }
   ],
   "source": [
    "#Train SVM using best parameters\n",
    "svm_best = SVC(C=1000,gamma=0.0001,kernel='rbf',probability=True) \n",
    "start_time=time.time()\n",
    "svm_best.fit(X_train, y_train)\n",
    "\n",
    "print(\"Training  model takes %s seconds\" % round((time.time() - start_time),3))\n",
    "print('Accuracy of SVM on test set: {:.3f}'.format(svm_best.score(X_test,y_test)))\n",
    "\n",
    "start = time.time()\n",
    "svm_pred = svm_best.predict(X_test)\n",
    "end = time.time()\n",
    "\n",
    "svm_predprob = svm_best.predict_proba(X_test)[:,1]\n",
    "\n",
    "print(\"Predicting test data takes %s seconds\" % round((end - start),3))\n",
    "print('Classification error rate:', np.mean(np.array(y_test)!= svm_pred))\n",
    "print('Classification report \\n', classification_report(y_test, svm_pred))\n",
    "\n",
    "print('Confusion Matrix \\n', confusion_matrix(y_test, svm_pred))\n",
    "print('AUC is: {:.4f}'.format(roc_auc_score(y_test, svm_predprob)))"
   ]
  },
  {
   "cell_type": "code",
   "execution_count": 11,
   "metadata": {},
   "outputs": [
    {
     "data": {
      "text/plain": [
       "SVC(C=10, gamma=0.0001, probability=True)"
      ]
     },
     "execution_count": 11,
     "metadata": {},
     "output_type": "execute_result"
    }
   ],
   "source": [
    "#Save trained SVM model\n",
    "pickle.dump(svm_best, open(\"C:/Users/liqia/Spring2021-Project5-group-1-1-master/output/best_svm.p\",'wb'))\n",
    "#Load SVM balanced model\n",
    "pickle.load(open(\"C:/Users/liqia/Spring2021-Project3-group-3-master/output/best_svm.p\",'rb'))"
   ]
  },
  {
   "cell_type": "markdown",
   "metadata": {},
   "source": [
    "weighted SVM"
   ]
  },
  {
   "cell_type": "code",
   "execution_count": 12,
   "metadata": {},
   "outputs": [
    {
     "name": "stdout",
     "output_type": "stream",
     "text": [
      "Mean ROC AUC: 0.665\n"
     ]
    }
   ],
   "source": [
    "weighted_svm = SVC(gamma = 'scale', class_weight = 'balanced')\n",
    "\n",
    "#CV Weighted SVM \n",
    "cv = RepeatedStratifiedKFold(n_splits=10, n_repeats=3, random_state=1)\n",
    "# evaluate model\n",
    "scores = cross_val_score(weighted_svm, X, y, scoring='roc_auc', cv=cv, n_jobs=-1)\n",
    "# summarize performance\n",
    "print('Mean ROC AUC: %.3f' % np.mean(scores))"
   ]
  },
  {
   "cell_type": "code",
   "execution_count": 13,
   "metadata": {},
   "outputs": [
    {
     "data": {
      "text/plain": [
       "SVC(class_weight={0: 598.0, 1: 2402.0})"
      ]
     },
     "execution_count": 13,
     "metadata": {},
     "output_type": "execute_result"
    }
   ],
   "source": [
    "balance = [{0:598.0, 1:2402.0},{0:1,1:100}, {0:1,1:10}, {0:1,1:1}, {0:10,1:1}, {0:100,1:1}]\n",
    "param_grid = dict(class_weight=balance)\n",
    "\n",
    "grid_weightedsvm = GridSearchCV(estimator=weighted_svm, param_grid=param_grid, n_jobs=-1, cv=cv, scoring='roc_auc')\n",
    "grid_weightedsvm.fit(X,y)\n",
    "grid_weightedsvm.best_params_\n",
    "grid_weightedsvm.best_estimator_"
   ]
  },
  {
   "cell_type": "code",
   "execution_count": 14,
   "metadata": {},
   "outputs": [
    {
     "data": {
      "text/plain": [
       "SVC(class_weight={0: 598.0, 1: 2402.0})"
      ]
     },
     "execution_count": 14,
     "metadata": {},
     "output_type": "execute_result"
    }
   ],
   "source": [
    "grid_weightedsvm.best_params_\n",
    "grid_weightedsvm.best_estimator_"
   ]
  },
  {
   "cell_type": "code",
   "execution_count": 15,
   "metadata": {},
   "outputs": [
    {
     "name": "stdout",
     "output_type": "stream",
     "text": [
      "Best: 0.687006 using {'class_weight': {0: 598.0, 1: 2402.0}}\n",
      "0.687006 (0.009648) with: {'class_weight': {0: 598.0, 1: 2402.0}}\n",
      "0.488737 (0.014635) with: {'class_weight': {0: 1, 1: 100}}\n",
      "0.646140 (0.010056) with: {'class_weight': {0: 1, 1: 10}}\n",
      "0.566836 (0.028559) with: {'class_weight': {0: 1, 1: 1}}\n",
      "0.553746 (0.029255) with: {'class_weight': {0: 10, 1: 1}}\n",
      "0.541445 (0.028637) with: {'class_weight': {0: 100, 1: 1}}\n"
     ]
    }
   ],
   "source": [
    "print(\"Best: %f using %s\" % (grid_weightedsvm.best_score_, grid_weightedsvm.best_params_))\n",
    "# report all configurations\n",
    "means = grid_weightedsvm.cv_results_['mean_test_score']\n",
    "stds = grid_weightedsvm.cv_results_['std_test_score']\n",
    "params = grid_weightedsvm.cv_results_['params']\n",
    "for mean, stdev, param in zip(means, stds, params):\n",
    "    print(\"%f (%f) with: %r\" % (mean, stdev, param))"
   ]
  },
  {
   "cell_type": "code",
   "execution_count": 16,
   "metadata": {},
   "outputs": [
    {
     "name": "stdout",
     "output_type": "stream",
     "text": [
      "Training  model takes 2278.569 seconds\n",
      "Accuracy of weighted SVM on test set: 0.552\n",
      "[0 1 1 0 1]\n",
      "Predicting test data takes 52.606 seconds\n",
      "Classification error rate: 0.33511662743419646\n",
      "Classification report \n",
      "               precision    recall  f1-score   support\n",
      "\n",
      "           0       0.76      0.46      0.58      4613\n",
      "           1       0.62      0.86      0.72      4733\n",
      "\n",
      "    accuracy                           0.66      9346\n",
      "   macro avg       0.69      0.66      0.65      9346\n",
      "weighted avg       0.69      0.66      0.65      9346\n",
      "\n",
      "Confusion Matrix \n",
      " [[2141 2472]\n",
      " [ 660 4073]]\n",
      "AUC is: 0.7417\n"
     ]
    }
   ],
   "source": [
    "weighted_svm_best = SVC(gamma = 'scale', class_weight ={0: 598.0, 1: 2402.0},probability=True)\n",
    "start_time=time.time()\n",
    "weighted_svm_best.fit(X, y)\n",
    "print(\"Training  model takes %s seconds\" % round((time.time() - start_time),3))\n",
    "\n",
    "print('Accuracy of weighted SVM on test set: {:.3f}'.format(weighted_svm_best.score(X,y)))\n",
    "\n",
    "start = time.time()\n",
    "weighted_svm_pred = weighted_svm_best.predict(X_test)\n",
    "end = time.time()\n",
    "print(weighted_svm_pred[0:5,])\n",
    "\n",
    "weighted_svm_predprob = weighted_svm_best.predict_proba(X_test)[:,1]\n",
    "\n",
    "print(\"Predicting test data takes %s seconds\" % round((end - start),3))\n",
    "print('Classification error rate:', np.mean(np.array(y_test)!= weighted_svm_pred))\n",
    "print('Classification report \\n', classification_report(y_test, weighted_svm_pred))\n",
    "\n",
    "print('Confusion Matrix \\n', confusion_matrix(y_test, weighted_svm_pred))\n",
    "print('AUC is: {:.4f}'.format(roc_auc_score(y_test, weighted_svm_predprob)))"
   ]
  },
  {
   "cell_type": "code",
   "execution_count": 17,
   "metadata": {},
   "outputs": [
    {
     "data": {
      "text/plain": [
       "SVC(class_weight={0: 598.0, 1: 2402.0}, probability=True)"
      ]
     },
     "execution_count": 17,
     "metadata": {},
     "output_type": "execute_result"
    }
   ],
   "source": [
    "#Save trained weighted SVM model\n",
    "pickle.dump(weighted_svm_best, open(\"C:/Users/liqia/Spring2021-Project5-group-1-1-master/output/best_weighted_svm.p\",'wb'))\n",
    "\n",
    "#Load weighted SVM model\n",
    "pickle.load(open(\"C:/Users/liqia/Spring2021-Project5-group-1-1-master/output/best_weighted_svm.p\",'rb'))"
   ]
  }
 ],
 "metadata": {
  "kernelspec": {
   "display_name": "Python 3",
   "language": "python",
   "name": "python3"
  },
  "language_info": {
   "codemirror_mode": {
    "name": "ipython",
    "version": 3
   },
   "file_extension": ".py",
   "mimetype": "text/x-python",
   "name": "python",
   "nbconvert_exporter": "python",
   "pygments_lexer": "ipython3",
   "version": "3.8.5"
  }
 },
 "nbformat": 4,
 "nbformat_minor": 4
}
